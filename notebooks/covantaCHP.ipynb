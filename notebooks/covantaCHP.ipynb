{
 "cells": [
  {
   "cell_type": "code",
   "execution_count": null,
   "metadata": {},
   "outputs": [],
   "source": [
    "import pandas"
   ]
  }
 ],
 "metadata": {
  "interpreter": {
   "hash": "d6a58318d8fe3cef2a6c59d4bfea4905e4c1f1bf8ca19302f9090ab4096d11d7"
  },
  "kernelspec": {
   "display_name": "Python 3.7.0 64-bit (conda)",
   "language": "python",
   "name": "python3"
  },
  "language_info": {
   "name": "python",
   "version": "3.7.0"
  },
  "orig_nbformat": 4
 },
 "nbformat": 4,
 "nbformat_minor": 2
}
